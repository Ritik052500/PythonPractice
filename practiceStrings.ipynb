{
 "cells": [
  {
   "cell_type": "markdown",
   "metadata": {},
   "source": [
    "###  How do you reverse a given string in place"
   ]
  },
  {
   "cell_type": "code",
   "execution_count": 6,
   "metadata": {},
   "outputs": [
    {
     "data": {
      "text/plain": [
       "'bob si eman ym olleh'"
      ]
     },
     "execution_count": 6,
     "metadata": {},
     "output_type": "execute_result"
    }
   ],
   "source": [
    "a = \"hello my name is bob\"\n",
    "\n",
    "def reverse_string(string):\n",
    "\n",
    "    ### convert the string into a list to make is immutable\n",
    "    string = list(string)\n",
    "\n",
    "    ### initialize swapping variables\n",
    "    left = 0\n",
    "    right = len(string) - 1\n",
    "\n",
    "    ### swap left and right varable while the left index is less than the right\n",
    "    while left < right:\n",
    "        string[left], string[right] = string[right], string[left]\n",
    "\n",
    "        ### increment left and decrement right\n",
    "        left +=1\n",
    "        right -=1\n",
    "\n",
    "    return ''.join(string)\n",
    "\n",
    "reverse_string(a)"
   ]
  },
  {
   "cell_type": "markdown",
   "metadata": {},
   "source": [
    "### How do you print duplicate characters from a string"
   ]
  },
  {
   "cell_type": "code",
   "execution_count": 94,
   "metadata": {},
   "outputs": [
    {
     "name": "stdout",
     "output_type": "stream",
     "text": [
      "{'e': 2, 'l': 2, 'o': 2, ' ': 4, 'm': 2, 'b': 2}\n"
     ]
    }
   ],
   "source": [
    "def print_duplicate_characters(string):\n",
    "\n",
    "    ### Initialized two empty dictionaries to store charcacter counts\n",
    "    all_characters_dict = {}\n",
    "    duplicate_characters_dict = {}\n",
    "\n",
    "    ### Used for loop to count how many times each character appears in the string \n",
    "    for char in string:\n",
    "        if char in all_characters_dict:\n",
    "            all_characters_dict[char] = all_characters_dict[char] + 1\n",
    "        else:\n",
    "            all_characters_dict[char] = 1\n",
    "\n",
    "    ### Used for loop to determine which keys had a count greater than 2 and added the key value pair to the duplicate dictionary\n",
    "    for key, value in all_characters_dict.items():\n",
    "        if value > 1:\n",
    "            duplicate_characters_dict[key] = value\n",
    "\n",
    "    print(duplicate_characters_dict)\n",
    "\n",
    "print_duplicate_characters(a)"
   ]
  },
  {
   "cell_type": "markdown",
   "metadata": {},
   "source": [
    "### How do you find out if two strings are anagrams of each other"
   ]
  },
  {
   "cell_type": "code",
   "execution_count": 78,
   "metadata": {},
   "outputs": [
    {
     "data": {
      "text/plain": [
       "True"
      ]
     },
     "execution_count": 78,
     "metadata": {},
     "output_type": "execute_result"
    }
   ],
   "source": [
    "def anagram(string_1, string_2):\n",
    "\n",
    "    ### create list and delete white space from input string to use the sort methods\n",
    "    list_1 = list(''.join(string_1.split()))\n",
    "    list_1.sort()\n",
    "\n",
    "    list_2 = list(''.join(string_2.split()))\n",
    "    list_2.sort()\n",
    "\n",
    "    ### Compare of both sorted lists are the same\n",
    "    if list_1 == list_2:\n",
    "        return True\n",
    "    else: return False\n",
    "\n",
    "anagram('anagram', 'nag a ram')\n"
   ]
  },
  {
   "cell_type": "markdown",
   "metadata": {},
   "source": [
    "### How do you find all permutations of a string"
   ]
  },
  {
   "cell_type": "code",
   "execution_count": 118,
   "metadata": {},
   "outputs": [
    {
     "data": {
      "text/plain": [
       "['def', 'dfe', 'edf', 'efd', 'fde', 'fed']"
      ]
     },
     "execution_count": 118,
     "metadata": {},
     "output_type": "execute_result"
    }
   ],
   "source": [
    "def permute(string):\n",
    "\n",
    "    ### If the passed string is only one character then return the character\n",
    "    if len(string) == 1:\n",
    "        return [string]\n",
    "\n",
    "\n",
    "    ### Initialize empty list to store permutations\n",
    "    permutations = []\n",
    "\n",
    "    ### Iterate through the string\n",
    "    for i in range(len(string)):\n",
    "\n",
    "        ### Store the first character and save the remaining into a new string\n",
    "        char = string[i]\n",
    "        remaining_char = string[:i] + string[i+1:]\n",
    "        \n",
    "        ### Call the function on itself so the first character will continuously get excluded at each iteration to find each permutation\n",
    "        for p in permute(remaining_char):\n",
    "            permutations.append(char + p)\n",
    "    return permutations\n",
    "\n",
    "string = \"def\"\n",
    "permutations = permute(string)\n",
    "permutations\n",
    "\n"
   ]
  },
  {
   "cell_type": "markdown",
   "metadata": {},
   "source": [
    "### How can a given string be reversed using recursion"
   ]
  },
  {
   "cell_type": "code",
   "execution_count": 90,
   "metadata": {},
   "outputs": [
    {
     "data": {
      "text/plain": [
       "'llib si eman ym'"
      ]
     },
     "execution_count": 90,
     "metadata": {},
     "output_type": "execute_result"
    }
   ],
   "source": [
    "def reverse_string_recursion(string):\n",
    "\n",
    "    ### return the input string if the length is 1\n",
    "    if len(string) <= 1:\n",
    "        return string\n",
    "\n",
    "    ### call the method on itself passing the string without the last character so it concatenates itself with the final character of each call\n",
    "    return string[-1] + reverse_string_recursion(string[:-1])\n",
    "\n",
    "reverse_string_recursion('my name is bill')"
   ]
  },
  {
   "cell_type": "markdown",
   "metadata": {},
   "source": [
    "### How do you check if a string only contains digits"
   ]
  },
  {
   "cell_type": "code",
   "execution_count": 93,
   "metadata": {},
   "outputs": [
    {
     "name": "stdout",
     "output_type": "stream",
     "text": [
      "False\n",
      "True\n"
     ]
    }
   ],
   "source": [
    "def only_digits(string):\n",
    "\n",
    "    ### Used isdigit method\n",
    "    return string.isdigit()\n",
    "\n",
    "print(only_digits('11a'))\n",
    "print(only_digits('111'))"
   ]
  },
  {
   "cell_type": "markdown",
   "metadata": {},
   "source": [
    "### How do you find duplicate characters in a given string"
   ]
  },
  {
   "cell_type": "code",
   "execution_count": 98,
   "metadata": {},
   "outputs": [
    {
     "name": "stdout",
     "output_type": "stream",
     "text": [
      "e\n",
      "l\n",
      "o\n",
      " \n",
      "m\n",
      "b\n"
     ]
    }
   ],
   "source": [
    "def find_duplicate_characters(string):\n",
    "\n",
    "    ### Initialized two empty dictionaries to store character counts\n",
    "    all_characters_dict = {}\n",
    "    duplicate_characters_dict = {}\n",
    "\n",
    "    ### Used for loop to count how many times each character appears in the string \n",
    "    for char in string:\n",
    "        if char in all_characters_dict:\n",
    "            all_characters_dict[char] = all_characters_dict[char] + 1\n",
    "        else:\n",
    "            all_characters_dict[char] = 1\n",
    "\n",
    "    ### Used for loop to determine which keys had a count greater than 2 and added the key value pair to the duplicate dictionary\n",
    "    for key, value in all_characters_dict.items():\n",
    "        if value > 1:\n",
    "            duplicate_characters_dict[key] = value\n",
    "\n",
    "    for key in duplicate_characters_dict.keys():\n",
    "        print(key)\n",
    "\n",
    "find_duplicate_characters(a)"
   ]
  },
  {
   "cell_type": "markdown",
   "metadata": {},
   "source": [
    "### How do count the number of vowels and consonants in a string"
   ]
  },
  {
   "cell_type": "code",
   "execution_count": 104,
   "metadata": {},
   "outputs": [
    {
     "name": "stdout",
     "output_type": "stream",
     "text": [
      "Vowel count: 5, Consonant count: 9\n"
     ]
    }
   ],
   "source": [
    "def vowels_consonants_count(string):\n",
    "    vowels = 0\n",
    "    consonants = 0\n",
    "    for char in string:\n",
    "        if char.isalpha():\n",
    "            if char in ['a','e','i','o','u']:\n",
    "                vowels += 1\n",
    "            else:\n",
    "                consonants += 1\n",
    "    return vowels, consonants\n",
    " \n",
    "vowels, consonants = vowels_consonants_count('Hi my name is bill')\n",
    "print(f'Vowel count: {vowels}, Consonant count: {consonants}')"
   ]
  },
  {
   "cell_type": "markdown",
   "metadata": {},
   "source": [
    "### How do you count the occurrences of a given character in a string"
   ]
  },
  {
   "cell_type": "code",
   "execution_count": 111,
   "metadata": {},
   "outputs": [
    {
     "data": {
      "text/plain": [
       "2"
      ]
     },
     "execution_count": 111,
     "metadata": {},
     "output_type": "execute_result"
    }
   ],
   "source": [
    "import re\n",
    "def count_occurrences(string, character):\n",
    "\n",
    "    ### Used re library ro find all occurrences of the character in the string as a list and returned the length\n",
    "    return len(re.findall(character.lower(), string.lower()))\n",
    "    \n",
    "\n",
    "count_occurrences('my name is pablo', 'a')"
   ]
  },
  {
   "cell_type": "markdown",
   "metadata": {},
   "source": [
    "### How do you print the first non-repeated character from a string"
   ]
  },
  {
   "cell_type": "code",
   "execution_count": 117,
   "metadata": {},
   "outputs": [
    {
     "data": {
      "text/plain": [
       "'i'"
      ]
     },
     "execution_count": 117,
     "metadata": {},
     "output_type": "execute_result"
    }
   ],
   "source": [
    "def first_non_repeated_character(string):\n",
    "\n",
    "    ### Initialized two empty dictionaries to store character counts\n",
    "    all_characters_dict = {}\n",
    "\n",
    "    ### Used for loop to count how many times each character appears in the string \n",
    "    for char in string:\n",
    "        if char in all_characters_dict:\n",
    "            all_characters_dict[char] = all_characters_dict[char] + 1\n",
    "        else:\n",
    "            all_characters_dict[char] = 1\n",
    "\n",
    "    ### Used for loop to determine which keys had a count  equal to one a returned the key since items added to dictionaries are in order of how they were added\n",
    "    for key, value in all_characters_dict.items():\n",
    "        if value == 1:\n",
    "            return key\n",
    "\n",
    "\n",
    "first_non_repeated_character('i love turtles')"
   ]
  }
 ],
 "metadata": {
  "kernelspec": {
   "display_name": "base",
   "language": "python",
   "name": "python3"
  },
  "language_info": {
   "codemirror_mode": {
    "name": "ipython",
    "version": 3
   },
   "file_extension": ".py",
   "mimetype": "text/x-python",
   "name": "python",
   "nbconvert_exporter": "python",
   "pygments_lexer": "ipython3",
   "version": "3.11.5"
  }
 },
 "nbformat": 4,
 "nbformat_minor": 2
}
