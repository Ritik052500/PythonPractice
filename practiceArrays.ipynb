{
 "cells": [
  {
   "cell_type": "markdown",
   "metadata": {},
   "source": [
    "### How do you find the duplicate number on a given integer array"
   ]
  },
  {
   "cell_type": "code",
   "execution_count": 25,
   "metadata": {},
   "outputs": [
    {
     "name": "stdout",
     "output_type": "stream",
     "text": [
      "1 appears multiple times\n",
      "7 appears multiple times\n",
      "8 appears multiple times\n",
      "9 appears multiple times\n"
     ]
    }
   ],
   "source": [
    "int_arr = [1,2,3,4,5,1,7,8,9,9,8,8,7,7,7,7]\n",
    "\n",
    "def duplicates(arr):\n",
    "\n",
    "    ### Initialize empty dictionary to store counts\n",
    "    my_dict = {}\n",
    "\n",
    "    ### Iterate through integer array\n",
    "    for num in arr:\n",
    "\n",
    "        ### Modify number count in integer array if possible else initialize it to 1\n",
    "        if num in my_dict:\n",
    "            my_dict[num] = my_dict[num] + 1\n",
    "        else:\n",
    "            my_dict[num] = 1\n",
    "\n",
    "    for key, value in my_dict.items():\n",
    "        if value > 1:\n",
    "            print(f'{key} appears multiple times')\n",
    "\n",
    "duplicates(int_arr)"
   ]
  },
  {
   "cell_type": "markdown",
   "metadata": {},
   "source": [
    "### How do you find the largest and smallest number in an unsorted integer array"
   ]
  },
  {
   "cell_type": "code",
   "execution_count": 7,
   "metadata": {},
   "outputs": [
    {
     "name": "stdout",
     "output_type": "stream",
     "text": [
      "The largest number in the array is 9\n",
      "The smallest number in the array is 1\n"
     ]
    }
   ],
   "source": [
    "import numpy as np\n",
    "def largest_smallest(arr):\n",
    "\n",
    "    ### initialize minimum and maximum values\n",
    "    minimum = np.inf\n",
    "    maximum = -np.inf\n",
    "\n",
    "    ### iterate through the array and find the minimum and maximum values\n",
    "    for num in arr:\n",
    "        if num < minimum:\n",
    "            minimum = num\n",
    "        elif num > maximum:\n",
    "            maximum = num\n",
    "\n",
    "    print(f'The largest number in the array is {maximum}')\n",
    "    print(f'The smallest number in the array is {minimum}')\n",
    "\n",
    "\n",
    "largest_smallest(int_arr)"
   ]
  },
  {
   "cell_type": "markdown",
   "metadata": {},
   "source": [
    "### How do you find all pairs of an integer array whose sum is equal to a given number"
   ]
  },
  {
   "cell_type": "code",
   "execution_count": 23,
   "metadata": {},
   "outputs": [],
   "source": [
    "def pairs(arr, num):\n",
    "\n",
    "    ### initialize empty list for pairs and variable to save number for comparison\n",
    "    pairs = []\n",
    "    compare_number = 0\n",
    "\n",
    "    ### iterate through the array\n",
    "    for index, value in enumerate(arr):\n",
    "\n",
    "        ### save the value at each iteration\n",
    "        compare_number = value\n",
    "\n",
    "        ### create a new array excluding the number used for comparison\n",
    "        new_arr = arr[:index] + arr[index+1:]\n",
    "\n",
    "        ### iterate through the new array\n",
    "        for number in new_arr:\n",
    "            \n",
    "            ### if the comparison number and the number from the new array, append it to the lost of pairs if it does not already exist\n",
    "            if compare_number + number == num:\n",
    "                if sorted((compare_number, number)) not in pairs:\n",
    "                    pairs.append(sorted((compare_number, number)))\n",
    "    print(pairs)\n",
    "    "
   ]
  },
  {
   "cell_type": "code",
   "execution_count": 24,
   "metadata": {},
   "outputs": [
    {
     "name": "stdout",
     "output_type": "stream",
     "text": [
      "[[2, 5], [3, 4]]\n"
     ]
    }
   ],
   "source": [
    "pairs(int_arr, 7)"
   ]
  },
  {
   "cell_type": "markdown",
   "metadata": {},
   "source": [
    "### How do you find duplicate numbers in an array if it contains multiple duplicates"
   ]
  },
  {
   "cell_type": "code",
   "execution_count": 26,
   "metadata": {},
   "outputs": [
    {
     "name": "stdout",
     "output_type": "stream",
     "text": [
      "1 appears 2 times\n",
      "7 appears 5 times\n",
      "8 appears 3 times\n",
      "9 appears 2 times\n"
     ]
    }
   ],
   "source": [
    "def multiple_duplicates(arr):\n",
    "\n",
    "    ### Initialize empty dictionary to store counts\n",
    "    my_dict = {}\n",
    "\n",
    "    ### Iterate through integer array\n",
    "    for num in arr:\n",
    "\n",
    "        ### Modify number count in integer array if possible else initialize it to 1\n",
    "        if num in my_dict:\n",
    "            my_dict[num] = my_dict[num] + 1\n",
    "        else:\n",
    "            my_dict[num] = 1\n",
    "\n",
    "    for key, value in my_dict.items():\n",
    "        if value > 1:\n",
    "            print(f'{key} appears {value} times')\n",
    "\n",
    "multiple_duplicates(int_arr)"
   ]
  },
  {
   "cell_type": "markdown",
   "metadata": {},
   "source": [
    "### How to remove duplicates from an array"
   ]
  },
  {
   "cell_type": "code",
   "execution_count": 27,
   "metadata": {},
   "outputs": [
    {
     "name": "stdout",
     "output_type": "stream",
     "text": [
      "[1, 2, 3, 4, 5, 7, 8, 9]\n"
     ]
    }
   ],
   "source": [
    "def remove_duplcates(arr):\n",
    "\n",
    "    ### initialize empty list to store indexes of first appearances\n",
    "    first_appear = []\n",
    "\n",
    "    ### iterate through array and append the integer to the first appearances array if it has not already appeared\n",
    "    for num in arr:\n",
    "        if num not in first_appear:\n",
    "            first_appear.append(num)\n",
    "    \n",
    "    print(first_appear)\n",
    "\n",
    "remove_duplcates(int_arr)"
   ]
  },
  {
   "cell_type": "markdown",
   "metadata": {},
   "source": [
    "### How do you search for a value in a rotated array"
   ]
  },
  {
   "cell_type": "code",
   "execution_count": 49,
   "metadata": {},
   "outputs": [
    {
     "name": "stdout",
     "output_type": "stream",
     "text": [
      "5\n",
      "6\n",
      "7\n",
      "8\n",
      "0\n",
      "1\n",
      "2\n",
      "3\n"
     ]
    }
   ],
   "source": [
    "rotated_array = [5,6,7,8,9,1,2,3,4]\n",
    "\n",
    "def search_rotated_array(arr, target):\n",
    "    low = 0\n",
    "    high = len(arr) - 1\n",
    "\n",
    "    while low <= high:\n",
    "        mid = (low + high) // 2 ### assign the mid index at each iteration\n",
    "\n",
    "        if arr[mid] ==  target: ### return the mid index if the target is found\n",
    "            return mid\n",
    "        \n",
    "\n",
    "        if arr[low] <= arr[mid]: ### Determine if the left side of the array is sorted\n",
    "            if arr[low] <= target < arr[mid]: ### If the target is between the low and mid then assign the high a value of the mid - 1, if not assign the low by the mid + 1\n",
    "                high = mid - 1\n",
    "            else:\n",
    "                low = mid + 1\n",
    "\n",
    "        else: ### block will run if the right side of the array is sorted\n",
    "            if arr[mid] < target <= arr[high]: ### If the target is between the mid and high then assign the low a value of the mid + 1, if not assign the high by the mid - 1\n",
    "                low = mid + 1\n",
    "            else:\n",
    "                high = mid - 1\n",
    "    return mid\n",
    "\n",
    "print(search_rotated_array(rotated_array, 1))\n",
    "print(search_rotated_array(rotated_array, 2))\n",
    "print(search_rotated_array(rotated_array, 3))\n",
    "print(search_rotated_array(rotated_array, 4))\n",
    "print(search_rotated_array(rotated_array, 5))\n",
    "print(search_rotated_array(rotated_array, 6))\n",
    "print(search_rotated_array(rotated_array, 7))\n",
    "print(search_rotated_array(rotated_array, 8))"
   ]
  },
  {
   "cell_type": "code",
   "execution_count": 48,
   "metadata": {},
   "outputs": [
    {
     "data": {
      "text/plain": [
       "7"
      ]
     },
     "execution_count": 48,
     "metadata": {},
     "output_type": "execute_result"
    }
   ],
   "source": [
    "print(search_rotated_array(rotated_array, 3))"
   ]
  },
  {
   "cell_type": "markdown",
   "metadata": {},
   "source": [
    "### Given an unsorted array of integers, find the length of the longest consecutive elements sequence"
   ]
  },
  {
   "cell_type": "code",
   "execution_count": 112,
   "metadata": {},
   "outputs": [
    {
     "data": {
      "text/plain": [
       "4"
      ]
     },
     "execution_count": 112,
     "metadata": {},
     "output_type": "execute_result"
    }
   ],
   "source": [
    "import pandas as pd\n",
    "unsorted_arr = np.random.choice(range(1,30), 20)\n",
    "\n",
    "def longest_sequence(arr):\n",
    "       arr.sort() ### sort the array\n",
    "       unique_values = pd.Series(arr).drop_duplicates().values ### remove duplicate values from the array\n",
    "\n",
    "       longest_sequence_count = 0 ### initialize sequence count and index variables\n",
    "       first_index = 0\n",
    "       second_index = 1\n",
    "\n",
    "       while (second_index < len(unique_values)): ### repeat loop while the second index is less the the length of unique values\n",
    "\n",
    "              sequence = 1 ### initialize the current sequence length as 1\n",
    "\n",
    "              while (unique_values[first_index] == unique_values[second_index] - 1): ### repeat loop while the value in the second index is 1 larger than the value in the first index\n",
    "                     sequence += 1 \n",
    "                     \n",
    "                     if sequence > longest_sequence_count: ### update the longest sequence count\n",
    "                            longest_sequence_count = sequence\n",
    "                            \n",
    "                     first_index = second_index ### increment the first and second index for the current sequence\n",
    "                     second_index +=1\n",
    "                     \n",
    "                     if (second_index == len(unique_values)): ### break the while loop if the second index is the same length as the uniques values\n",
    "                            break\n",
    "\n",
    "              first_index = second_index ### update the first and second index for the next sequence\n",
    "              second_index += 1\n",
    "              \n",
    "       return longest_sequence_count\n",
    "\n",
    "longest_sequence(unsorted_arr)\n"
   ]
  },
  {
   "cell_type": "markdown",
   "metadata": {},
   "source": [
    "### How is an integer array sorted in place using the quick sort algorithm"
   ]
  },
  {
   "cell_type": "code",
   "execution_count": 126,
   "metadata": {},
   "outputs": [
    {
     "name": "stdout",
     "output_type": "stream",
     "text": [
      "Sorted array: [1, 5, 7, 8, 9, 10]\n"
     ]
    }
   ],
   "source": [
    "def quicksort_inplace(arr, low, high):\n",
    "    if low < high:\n",
    "        # Partition the array and get the pivot index\n",
    "        pi = partition(arr, low, high)\n",
    "        # Recursively apply quicksort to the left and right sub-arrays\n",
    "        quicksort_inplace(arr, low, pi - 1)\n",
    "        quicksort_inplace(arr, pi + 1, high)\n",
    "\n",
    "def partition(arr, low, high):\n",
    "    # Choose the pivot element (here, the last element)\n",
    "    pivot = arr[high]\n",
    "    i = low - 1  # Index of the smaller element\n",
    "    for j in range(low, high):\n",
    "        if arr[j] <= pivot:\n",
    "            i += 1\n",
    "            arr[i], arr[j] = arr[j], arr[i]  # Swap elements\n",
    "    # Place the pivot in the correct position\n",
    "    arr[i + 1], arr[high] = arr[high], arr[i + 1]\n",
    "    return i + 1  # Return the index of the pivot\n",
    "\n",
    "# Example usage:\n",
    "arr = [10, 7, 8, 9, 1, 5]\n",
    "quicksort_inplace(arr, 0, len(arr) - 1)\n",
    "print(\"Sorted array:\", arr)\n"
   ]
  },
  {
   "cell_type": "markdown",
   "metadata": {},
   "source": [
    "### How do you remove duplicates from an array in place"
   ]
  },
  {
   "cell_type": "code",
   "execution_count": 125,
   "metadata": {},
   "outputs": [
    {
     "data": {
      "text/plain": [
       "[1, 2, 3, 4, 5, 6, 7, 9]"
      ]
     },
     "execution_count": 125,
     "metadata": {},
     "output_type": "execute_result"
    }
   ],
   "source": [
    "def remove_duplicates_in_place(nums):\n",
    "    \n",
    "    unique = set() ### initialize a set to store first appearance of numbers\n",
    "    i = 0\n",
    "    \n",
    "    while i < len(nums): ### use a while loop to increment through the numbers array while i is less then the length of numbers\n",
    "        \n",
    "        if nums[i] not in unique: \n",
    "            unique.add(nums[i]) ### add the number to the set if it does not exist\n",
    "            i += 1\n",
    "        else:\n",
    "            nums.pop(i) ### remove the value at index i if its in the set\n",
    "\n",
    "        \n",
    "    return nums\n",
    "    \n",
    "\n",
    "nums = [1, 1,1,1, 2, 2, 3, 4, 4, 5,3,6,6,6,7,9]\n",
    "remove_duplicates_in_place(nums)\n",
    "\n",
    "    "
   ]
  }
 ],
 "metadata": {
  "kernelspec": {
   "display_name": "base",
   "language": "python",
   "name": "python3"
  },
  "language_info": {
   "codemirror_mode": {
    "name": "ipython",
    "version": 3
   },
   "file_extension": ".py",
   "mimetype": "text/x-python",
   "name": "python",
   "nbconvert_exporter": "python",
   "pygments_lexer": "ipython3",
   "version": "3.11.5"
  }
 },
 "nbformat": 4,
 "nbformat_minor": 2
}
